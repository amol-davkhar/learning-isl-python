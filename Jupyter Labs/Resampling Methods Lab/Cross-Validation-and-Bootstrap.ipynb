{
 "cells": [
  {
   "cell_type": "markdown",
   "id": "86062c3f-b31a-4894-8375-b9b0725a0428",
   "metadata": {},
   "source": [
    "# Cross Validation and the Bootstrap"
   ]
  },
  {
   "cell_type": "code",
   "execution_count": 1,
   "id": "5331d58d-e39b-4751-9900-ad25ad513df4",
   "metadata": {},
   "outputs": [],
   "source": [
    "import numpy as np\n",
    "import statsmodels.api as sm\n",
    "\n",
    "from ISLP import load_data\n",
    "from ISLP.models import (ModelSpec as MS , summarize, poly)\n",
    "from ISLP.models import sklearn_sm\n",
    "\n",
    "from sklearn.model_selection import train_test_split\n",
    "from sklearn.model_selection import (cross_validate, KFold, ShuffleSplit)\n",
    "from sklearn.base import clone \n",
    "\n",
    "from functools import partial\n"
   ]
  },
  {
   "cell_type": "markdown",
   "id": "c6e95c3f-2a9f-4c4c-9e5c-a50b2ec530da",
   "metadata": {},
   "source": [
    "## The Validation Set Approach \n",
    "- Recall that the **Validaiton Set Approach** is just dividing the observations $n$ into two parts\n",
    "- Training Set\n",
    "- Validation Set "
   ]
  },
  {
   "cell_type": "code",
   "execution_count": 3,
   "id": "1e37a310-69d9-4c0a-8b47-916c14657196",
   "metadata": {},
   "outputs": [],
   "source": [
    "Auto = load_data('Auto')\n",
    "Auto_train, Auto_test = train_test_split(Auto,test_size=196,random_state=10)"
   ]
  },
  {
   "cell_type": "markdown",
   "id": "2923ac62-efe2-4bf1-825e-dac8cfedf485",
   "metadata": {},
   "source": [
    "- Loading the **Auto** data set which contain $392$\n",
    "- Splitting the dataset into two equal parts "
   ]
  },
  {
   "cell_type": "code",
   "execution_count": 11,
   "id": "39c0bf2c-3266-47eb-866c-c64a37fc3b20",
   "metadata": {},
   "outputs": [
    {
     "data": {
      "text/html": [
       "<div>\n",
       "<style scoped>\n",
       "    .dataframe tbody tr th:only-of-type {\n",
       "        vertical-align: middle;\n",
       "    }\n",
       "\n",
       "    .dataframe tbody tr th {\n",
       "        vertical-align: top;\n",
       "    }\n",
       "\n",
       "    .dataframe thead th {\n",
       "        text-align: right;\n",
       "    }\n",
       "</style>\n",
       "<table border=\"1\" class=\"dataframe\">\n",
       "  <thead>\n",
       "    <tr style=\"text-align: right;\">\n",
       "      <th></th>\n",
       "      <th>coef</th>\n",
       "      <th>std err</th>\n",
       "      <th>t</th>\n",
       "      <th>P&gt;|t|</th>\n",
       "    </tr>\n",
       "  </thead>\n",
       "  <tbody>\n",
       "    <tr>\n",
       "      <th>intercept</th>\n",
       "      <td>41.0730</td>\n",
       "      <td>1.031</td>\n",
       "      <td>39.825</td>\n",
       "      <td>0.0</td>\n",
       "    </tr>\n",
       "    <tr>\n",
       "      <th>horsepower</th>\n",
       "      <td>-0.1632</td>\n",
       "      <td>0.009</td>\n",
       "      <td>-17.913</td>\n",
       "      <td>0.0</td>\n",
       "    </tr>\n",
       "  </tbody>\n",
       "</table>\n",
       "</div>"
      ],
      "text/plain": [
       "               coef  std err       t  P>|t|\n",
       "intercept   41.0730    1.031  39.825    0.0\n",
       "horsepower  -0.1632    0.009 -17.913    0.0"
      ]
     },
     "execution_count": 11,
     "metadata": {},
     "output_type": "execute_result"
    }
   ],
   "source": [
    "hp_mm = MS(['horsepower'])\n",
    "\n",
    "X_train = hp_mm.fit_transform(Auto_train)\n",
    "Y_train = Auto_train['mpg']\n",
    "\n",
    "simple_LR = sm.OLS(Y_train,X_train)\n",
    "results = simple_LR.fit()\n",
    "summarize(results)"
   ]
  },
  {
   "cell_type": "markdown",
   "id": "068db20a-f96b-4c89-9ad7-d66d6f88db5d",
   "metadata": {},
   "source": [
    "- After fiting a **Simple Linear Regression** model using the **training set**\n",
    "- We validate the model using the **test/Validate set** with the `predict()` method"
   ]
  },
  {
   "cell_type": "code",
   "execution_count": 18,
   "id": "12990941-972e-44cc-a6bb-0475c805de64",
   "metadata": {},
   "outputs": [
    {
     "data": {
      "text/plain": [
       "23.060588342506232"
      ]
     },
     "execution_count": 18,
     "metadata": {},
     "output_type": "execute_result"
    }
   ],
   "source": [
    "X_test  = hp_mm.transform(Auto_test)\n",
    "y_test = Auto_test['mpg']\n",
    "valid_pred= results.predict(X_test)\n",
    "np.mean((y_test-valid_pred)**2)"
   ]
  },
  {
   "cell_type": "markdown",
   "id": "1898d79e-7d65-4c30-991b-bbc4818e373c",
   "metadata": {},
   "source": [
    "- The test **MSE** is estimated to be around $23.060$"
   ]
  },
  {
   "cell_type": "code",
   "execution_count": null,
   "id": "e57df478-af4d-40b2-8a7d-d6686d965451",
   "metadata": {},
   "outputs": [],
   "source": [
    "def evalMSE(terms,response,train,test):\n",
    "    mm = MS(terms)\n",
    "    X_train =mm.fit_transform(train)\n",
    "    Y_train = train[response]"
   ]
  }
 ],
 "metadata": {
  "kernelspec": {
   "display_name": "Python 3 (ipykernel)",
   "language": "python",
   "name": "python3"
  },
  "language_info": {
   "codemirror_mode": {
    "name": "ipython",
    "version": 3
   },
   "file_extension": ".py",
   "mimetype": "text/x-python",
   "name": "python",
   "nbconvert_exporter": "python",
   "pygments_lexer": "ipython3",
   "version": "3.12.3"
  }
 },
 "nbformat": 4,
 "nbformat_minor": 5
}
